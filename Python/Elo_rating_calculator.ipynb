{
  "nbformat": 4,
  "nbformat_minor": 0,
  "metadata": {
    "colab": {
      "provenance": []
    },
    "kernelspec": {
      "name": "python3",
      "display_name": "Python 3"
    },
    "language_info": {
      "name": "python"
    }
  },
  "cells": [
    {
      "cell_type": "code",
      "source": [
        "import math\n",
        "# calculator van de elo rating\n",
        "def calculate_elo_change(player_a_rating, player_b_rating, score, k=32):\n",
        "    expected_score_a = 1 / (1 + 10**((player_b_rating - player_a_rating) / 400))\n",
        "    expected_score_b = 1 - expected_score_a\n",
        "\n",
        "    new_rating_a = player_a_rating + k * (score - expected_score_a)\n",
        "    new_rating_b = player_b_rating + k * ((1 - score) - expected_score_b)\n",
        "\n",
        "    elo_change_a = round(new_rating_a - player_a_rating)\n",
        "    elo_change_b = round(new_rating_b - player_b_rating)\n",
        "\n",
        "    return elo_change_a, elo_change_b\n",
        "\n",
        "player_a_rating = 1000\n",
        "player_b_rating = 1000\n",
        "score = 1.0  # 1.0 is win,0.5 is gelijkspel,0.0 is verlies\n",
        "\n",
        "elo_change_a, elo_change_b = calculate_elo_change(player_a_rating, player_b_rating, score)\n",
        "\n",
        "print(\"New elo rating for Player A:\", elo_change_a + player_a_rating)\n",
        "print(\"New elo rating for Player B:\", player_b_rating + elo_change_b)\n"
      ],
      "metadata": {
        "colab": {
          "base_uri": "https://localhost:8080/"
        },
        "id": "69bnELQLoVpf",
        "outputId": "01e2d1f5-c14f-4e33-801c-ee7665a3f456"
      },
      "execution_count": 22,
      "outputs": [
        {
          "output_type": "stream",
          "name": "stdout",
          "text": [
            "New elo rating for Player A: 1018\n",
            "New elo rating for Player B: 1032\n"
          ]
        }
      ]
    }
  ]
}