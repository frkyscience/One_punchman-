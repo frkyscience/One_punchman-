{
  "nbformat": 4,
  "nbformat_minor": 0,
  "metadata": {
    "colab": {
      "provenance": []
    },
    "kernelspec": {
      "name": "python3",
      "display_name": "Python 3"
    },
    "language_info": {
      "name": "python"
    }
  },
  "cells": [
    {
      "cell_type": "code",
      "source": [
        "import math\n",
        "\n",
        "# tijdelijke handmatige ratings\n",
        "player_a_rating = 1590\n",
        "player_b_rating = 1600\n",
        "player_a_score = 55\n",
        "player_b_score = 50\n",
        "# elo calculator\n",
        "def calculate_expected_score(rating_a, rating_b):\n",
        "    return 1 / (1 + 10**((rating_b - rating_a) / 400))\n",
        "# updated new rating based on the score\n",
        "def update_elo(rating_a, rating_b, score_a, score_b, k=32):\n",
        "    expected_a = calculate_expected_score(rating_a, rating_b)\n",
        "    expected_b = calculate_expected_score(rating_b, rating_a)\n",
        "\n",
        "    new_rating_a = rating_a + k * (score_a - expected_a)\n",
        "    new_rating_b = rating_b + k * (score_b - expected_b)\n",
        "# round function zorgt ervoor dat elo nooit op decimalen eindigt\n",
        "    return round(new_rating_a), round(new_rating_b)\n",
        "\n",
        "new_player_a_rating, new_player_b_rating = update_elo(player_a_rating, player_b_rating, player_a_score, player_b_score)\n",
        "# win result\n",
        "if player_a_score > player_b_score:\n",
        "  print(\"player A has won\")\n",
        "if player_b_score > player_a_score:\n",
        "  print(\"player B has won\")\n",
        "else:\n",
        "  print(\"draw\")\n",
        "\n",
        "print(\"New rating Player A:\", new_player_a_rating)\n",
        "print(\"New rating Player B:\", new_player_b_rating)\n"
      ],
      "metadata": {
        "colab": {
          "base_uri": "https://localhost:8080/"
        },
        "id": "lhH8LTsh0yVJ",
        "outputId": "0186e480-780c-4788-df14-c75f65b9301b"
      },
      "execution_count": 16,
      "outputs": [
        {
          "output_type": "stream",
          "name": "stdout",
          "text": [
            "player A has won\n",
            "draw\n",
            "New rating Player A: 3334\n",
            "New rating Player B: 3184\n"
          ]
        }
      ]
    }
  ]
}